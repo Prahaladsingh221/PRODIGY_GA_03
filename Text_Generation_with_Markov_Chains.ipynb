{
  "nbformat": 4,
  "nbformat_minor": 0,
  "metadata": {
    "colab": {
      "provenance": []
    },
    "kernelspec": {
      "name": "python3",
      "display_name": "Python 3"
    },
    "language_info": {
      "name": "python"
    }
  },
  "cells": [
    {
      "cell_type": "code",
      "execution_count": 1,
      "metadata": {
        "id": "qCM48387KIeH"
      },
      "outputs": [],
      "source": [
        "sample_text = \"\"\"\n",
        "Once upon a time, there was a brave knight. The knight had a sword and a shield.\n",
        "He rode through forests and valleys, searching for dragons. The knight was brave and bold.\n",
        "\"\"\"\n"
      ]
    },
    {
      "cell_type": "code",
      "source": [
        "import random\n",
        "\n",
        "def build_markov_chain(text):\n",
        "    words = text.split()\n",
        "    markov_chain = {}\n",
        "\n",
        "    for i in range(len(words) - 1):\n",
        "        current_word = words[i]\n",
        "        next_word = words[i + 1]\n",
        "\n",
        "        if current_word not in markov_chain:\n",
        "            markov_chain[current_word] = []\n",
        "\n",
        "        markov_chain[current_word].append(next_word)\n",
        "\n",
        "    return markov_chain\n",
        "\n",
        "markov_chain = build_markov_chain(sample_text)\n",
        "print(markov_chain)\n"
      ],
      "metadata": {
        "colab": {
          "base_uri": "https://localhost:8080/"
        },
        "id": "VBUpBLJvKqCa",
        "outputId": "ef962d13-d911-4db4-e2e1-bab7c79e3b31"
      },
      "execution_count": 2,
      "outputs": [
        {
          "output_type": "stream",
          "name": "stdout",
          "text": [
            "{'Once': ['upon'], 'upon': ['a'], 'a': ['time,', 'brave', 'sword', 'shield.'], 'time,': ['there'], 'there': ['was'], 'was': ['a', 'brave'], 'brave': ['knight.', 'and'], 'knight.': ['The'], 'The': ['knight', 'knight'], 'knight': ['had', 'was'], 'had': ['a'], 'sword': ['and'], 'and': ['a', 'valleys,', 'bold.'], 'shield.': ['He'], 'He': ['rode'], 'rode': ['through'], 'through': ['forests'], 'forests': ['and'], 'valleys,': ['searching'], 'searching': ['for'], 'for': ['dragons.'], 'dragons.': ['The']}\n"
          ]
        }
      ]
    },
    {
      "cell_type": "code",
      "source": [
        "def generate_text(chain, start_word, length=20):\n",
        "    word = start_word\n",
        "    result = [word]\n",
        "\n",
        "    for _ in range(length):\n",
        "        if word in chain:\n",
        "            word = random.choice(chain[word])\n",
        "            result.append(word)\n",
        "        else:\n",
        "            break\n",
        "\n",
        "    return ' '.join(result)\n",
        "\n",
        "generated_text = generate_text(markov_chain, 'The')\n",
        "print(generated_text)\n"
      ],
      "metadata": {
        "colab": {
          "base_uri": "https://localhost:8080/"
        },
        "id": "N-wZeeDsKwen",
        "outputId": "a92d5a7e-245e-407d-8132-3e7257c81032"
      },
      "execution_count": 3,
      "outputs": [
        {
          "output_type": "stream",
          "name": "stdout",
          "text": [
            "The knight was a time, there was brave and valleys, searching for dragons. The knight had a brave knight. The knight\n"
          ]
        }
      ]
    },
    {
      "cell_type": "code",
      "source": [
        "import random\n",
        "\n",
        "sample_text = \"\"\"\n",
        "Once upon a time, there was a brave knight. The knight had a sword and a shield.\n",
        "He rode through forests and valleys, searching for dragons. The knight was brave and bold.\n",
        "\"\"\"\n",
        "\n",
        "def build_markov_chain(text):\n",
        "    words = text.split()\n",
        "    chain = {}\n",
        "    for i in range(len(words) - 1):\n",
        "        word, next_word = words[i], words[i + 1]\n",
        "        chain.setdefault(word, []).append(next_word)\n",
        "    return chain\n",
        "\n",
        "def generate_text(chain, start, length=20):\n",
        "    word = start\n",
        "    result = [word]\n",
        "    for _ in range(length):\n",
        "        word = random.choice(chain.get(word, [''])) if word in chain else ''\n",
        "        result.append(word)\n",
        "        if word == '':\n",
        "            break\n",
        "    return ' '.join(result)\n",
        "\n",
        "chain = build_markov_chain(sample_text)\n",
        "print(generate_text(chain, \"Once\"))\n"
      ],
      "metadata": {
        "colab": {
          "base_uri": "https://localhost:8080/"
        },
        "id": "0KUsxKFnK98f",
        "outputId": "e591dccd-63ce-4b24-aa45-601a43d3712c"
      },
      "execution_count": 4,
      "outputs": [
        {
          "output_type": "stream",
          "name": "stdout",
          "text": [
            "Once upon a time, there was brave knight. The knight was brave and a sword and bold. \n"
          ]
        }
      ]
    }
  ]
}